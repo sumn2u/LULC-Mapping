{
 "cells": [
  {
   "cell_type": "code",
   "execution_count": 1,
   "metadata": {},
   "outputs": [],
   "source": [
    "import numpy as np"
   ]
  },
  {
   "cell_type": "markdown",
   "metadata": {},
   "source": [
    "Training Time : 15 epochs"
   ]
  },
  {
   "cell_type": "code",
   "execution_count": 10,
   "metadata": {},
   "outputs": [
    {
     "name": "stdout",
     "output_type": "stream",
     "text": [
      "Overall IoU for ResNet50_Aug: 0.9725\n"
     ]
    }
   ],
   "source": [
    "# Confusion matrix\n",
    "confusion_matrix_ResNet50_Aug = np.array([\n",
    "    [591,   0,   0,   0,   0,   0,   6,   0,   0,   0],\n",
    "    [  1, 596,   3,   0,   0,   0,   0,   0,   0,   0],\n",
    "    [  2,   0, 548,   0,   0,   2,   5,   0,   0,   0],\n",
    "    [  1,   3,   1, 481,   2,   0,   0,   2,   3,   0],\n",
    "    [  0,   0,   0,   0, 509,   0,   0,   2,   1,   0],\n",
    "    [  4,   0,   5,   0,   0, 365,   0,   0,   0,   0],\n",
    "    [ 13,   0,   4,   0,   0,   1, 473,   0,   0,   0],\n",
    "    [  0,   0,   0,   0,   1,   0,   0, 606,   0,   0],\n",
    "    [  1,   0,   1,   2,   0,   2,   0,   0, 541,   0],\n",
    "    [  0,   0,   1,   0,   0,   0,   0,   0,   4, 617]\n",
    "])\n",
    "\n",
    "# Calculate true positives\n",
    "tp = np.diag(confusion_matrix_ResNet50_Aug)\n",
    "\n",
    "# Calculate false positives\n",
    "fp = np.sum(confusion_matrix_ResNet50_Aug, axis=0) - tp\n",
    "\n",
    "# Calculate false negatives\n",
    "fn = np.sum(confusion_matrix_ResNet50_Aug, axis=1) - tp\n",
    "\n",
    "# Calculate total number of predictions\n",
    "total_predictions = np.sum(confusion_matrix_ResNet50_Aug)\n",
    "\n",
    "# Calculate IoU for each class\n",
    "iou_per_class = tp / (tp + fp + fn)\n",
    "\n",
    "# Calculate overall IoU\n",
    "overall_iou = np.mean(iou_per_class)\n",
    "\n",
    "print(f\"Overall IoU for ResNet50_Aug: {overall_iou:.4f}\")"
   ]
  },
  {
   "cell_type": "code",
   "execution_count": 11,
   "metadata": {},
   "outputs": [
    {
     "name": "stdout",
     "output_type": "stream",
     "text": [
      "Overall IoU for ResNet50: 0.9695\n"
     ]
    }
   ],
   "source": [
    "# Confusion matrix\n",
    "confusion_matrix_ResNet50 = np.array([\n",
    "    [583,   0,   1,   0,   0,   3,   7,   0,   1,   2],\n",
    "    [  1, 599,   0,   0,   0,   0,   0,   0,   0,   0],\n",
    "    [  1,   0, 543,   1,   0,   3,   9,   0,   0,   0],\n",
    "    [  0,   1,   1, 485,   2,   0,   0,   1,   3,   0],\n",
    "    [  0,   0,   0,   0, 507,   0,   1,   1,   3,   0],\n",
    "    [  2,   1,   4,   0,   0, 361,   2,   0,   4,   0],\n",
    "    [  8,   0,   4,   1,   0,   2, 476,   0,   0,   0],\n",
    "    [  0,   0,   0,   0,   1,   0,   0, 606,   0,   0],\n",
    "    [  0,   0,   0,   3,   0,   2,   0,   0, 541,   1],\n",
    "    [  0,   0,   0,   0,   0,   0,   0,   0,   2, 620]\n",
    "])\n",
    "\n",
    "# Calculate true positives\n",
    "tp = np.diag(confusion_matrix_ResNet50)\n",
    "\n",
    "# Calculate false positives\n",
    "fp = np.sum(confusion_matrix_ResNet50, axis=0) - tp\n",
    "\n",
    "# Calculate false negatives\n",
    "fn = np.sum(confusion_matrix_ResNet50, axis=1) - tp\n",
    "\n",
    "# Calculate total number of predictions\n",
    "total_predictions = np.sum(confusion_matrix_ResNet50)\n",
    "\n",
    "# Calculate IoU for each class\n",
    "iou_per_class = tp / (tp + fp + fn)\n",
    "\n",
    "# Calculate overall IoU\n",
    "overall_iou = np.mean(iou_per_class)\n",
    "\n",
    "print(f\"Overall IoU for ResNet50: {overall_iou:.4f}\")"
   ]
  },
  {
   "cell_type": "code",
   "execution_count": 12,
   "metadata": {},
   "outputs": [
    {
     "name": "stdout",
     "output_type": "stream",
     "text": [
      "Overall IoU for VGG16_Aug: 0.9695\n"
     ]
    }
   ],
   "source": [
    "# Confusion matrix\n",
    "confusion_matrix_VGG16_Aug = np.array([\n",
    "    [583,   0,   1,   0,   0,   3,   7,   0,   1,   2],\n",
    "    [  1, 599,   0,   0,   0,   0,   0,   0,   0,   0],\n",
    "    [  1,   0, 543,   1,   0,   3,   9,   0,   0,   0],\n",
    "    [  0,   1,   1, 485,   2,   0,   0,   1,   3,   0],\n",
    "    [  0,   0,   0,   0, 507,   0,   1,   1,   3,   0],\n",
    "    [  2,   1,   4,   0,   0, 361,   2,   0,   4,   0],\n",
    "    [  8,   0,   4,   1,   0,   2, 476,   0,   0,   0],\n",
    "    [  0,   0,   0,   0,   1,   0,   0, 606,   0,   0],\n",
    "    [  0,   0,   0,   3,   0,   2,   0,   0, 541,   1],\n",
    "    [  0,   0,   0,   0,   0,   0,   0,   0,   2, 620]\n",
    "])\n",
    "\n",
    "# Calculate true positives\n",
    "tp = np.diag(confusion_matrix_VGG16_Aug)\n",
    "\n",
    "# Calculate false positives\n",
    "fp = np.sum(confusion_matrix_VGG16_Aug, axis=0) - tp\n",
    "\n",
    "# Calculate false negatives\n",
    "fn = np.sum(confusion_matrix_VGG16_Aug, axis=1) - tp\n",
    "\n",
    "# Calculate total number of predictions\n",
    "total_predictions = np.sum(confusion_matrix_VGG16_Aug)\n",
    "\n",
    "# Calculate IoU for each class\n",
    "iou_per_class = tp / (tp + fp + fn)\n",
    "\n",
    "# Calculate overall IoU\n",
    "overall_iou = np.mean(iou_per_class)\n",
    "\n",
    "print(f\"Overall IoU for VGG16_Aug: {overall_iou:.4f}\")"
   ]
  },
  {
   "cell_type": "code",
   "execution_count": 13,
   "metadata": {},
   "outputs": [
    {
     "name": "stdout",
     "output_type": "stream",
     "text": [
      "Overall IoU for VGG16: 0.9616\n"
     ]
    }
   ],
   "source": [
    "# Confusion matrix\n",
    "confusion_matrix_VGG16 = np.array([\n",
    "    [581,   1,   1,   1,   0,   4,   5,   0,   1,   3],\n",
    "    [  1, 596,   0,   0,   0,   0,   0,   0,   1,   2],\n",
    "    [  0,   2, 541,   0,   0,   6,   4,   0,   2,   2],\n",
    "    [  0,   2,   0, 484,   1,   1,   0,   2,   3,   0],\n",
    "    [  0,   0,   0,   2, 505,   0,   0,   4,   1,   0],\n",
    "    [  4,   1,   3,   0,   0, 362,   1,   0,   3,   0],\n",
    "    [ 13,   0,   6,   2,   0,   2, 467,   1,   0,   0],\n",
    "    [  0,   0,   0,   0,   0,   0,   0, 607,   0,   0],\n",
    "    [  2,   0,   0,   6,   0,   3,   0,   0, 535,   1],\n",
    "    [  0,   0,   0,   0,   0,   0,   0,   0,   1, 621]\n",
    "])\n",
    "\n",
    "# Calculate true positives\n",
    "tp = np.diag(confusion_matrix_VGG16)\n",
    "\n",
    "# Calculate false positives\n",
    "fp = np.sum(confusion_matrix_VGG16, axis=0) - tp\n",
    "\n",
    "# Calculate false negatives\n",
    "fn = np.sum(confusion_matrix_VGG16, axis=1) - tp\n",
    "\n",
    "# Calculate total number of predictions\n",
    "total_predictions = np.sum(confusion_matrix_VGG16)\n",
    "\n",
    "# Calculate IoU for each class\n",
    "iou_per_class = tp / (tp + fp + fn)\n",
    "\n",
    "# Calculate overall IoU\n",
    "overall_iou = np.mean(iou_per_class)\n",
    "\n",
    "print(f\"Overall IoU for VGG16: {overall_iou:.4f}\")"
   ]
  },
  {
   "cell_type": "code",
   "execution_count": 14,
   "metadata": {},
   "outputs": [
    {
     "name": "stdout",
     "output_type": "stream",
     "text": [
      "Overall IoU for ViT_Aug: 0.9734\n"
     ]
    }
   ],
   "source": [
    "# Confusion matrix\n",
    "confusion_matrix_ViT_Aug = np.array([\n",
    "    [584,   0,   0,   0,   0,   3,  10,   0,   0,   0],\n",
    "    [  1, 599,   0,   0,   0,   0,   0,   0,   0,   0],\n",
    "    [  0,   1, 537,   0,   0,   9,  10,   0,   0,   0],\n",
    "    [  0,   0,   0, 492,   0,   0,   0,   1,   0,   0],\n",
    "    [  0,   0,   0,   6, 502,   0,   0,   3,   1,   0],\n",
    "    [  1,   0,   1,   0,   0, 369,   1,   0,   2,   0],\n",
    "    [  3,   0,   2,   0,   0,   1, 485,   0,   0,   0],\n",
    "    [  0,   0,   0,   0,   0,   0,   0, 607,   0,   0],\n",
    "    [  0,   0,   0,   6,   0,   0,   1,   0, 540,   0],\n",
    "    [  0,   1,   3,   0,   0,   1,   0,   0,   1, 616]\n",
    "])\n",
    "\n",
    "# Calculate true positives\n",
    "tp = np.diag(confusion_matrix_ViT_Aug)\n",
    "\n",
    "# Calculate false positives\n",
    "fp = np.sum(confusion_matrix_ViT_Aug, axis=0) - tp\n",
    "\n",
    "# Calculate false negatives\n",
    "fn = np.sum(confusion_matrix_ViT_Aug, axis=1) - tp\n",
    "\n",
    "# Calculate total number of predictions\n",
    "total_predictions = np.sum(confusion_matrix_ViT_Aug)\n",
    "\n",
    "# Calculate IoU for each class\n",
    "iou_per_class = tp / (tp + fp + fn)\n",
    "\n",
    "# Calculate overall IoU\n",
    "overall_iou = np.mean(iou_per_class)\n",
    "\n",
    "print(f\"Overall IoU for ViT_Aug: {overall_iou:.4f}\")"
   ]
  },
  {
   "cell_type": "code",
   "execution_count": 15,
   "metadata": {},
   "outputs": [
    {
     "name": "stdout",
     "output_type": "stream",
     "text": [
      "Overall IoU for ViT: 0.9718\n"
     ]
    }
   ],
   "source": [
    "# Confusion matrix\n",
    "confusion_matrix_ViT = np.array([\n",
    "    [574,   0,   4,   0,   0,   8,  11,   0,   0,   0],\n",
    "    [  1, 598,   1,   0,   0,   0,   0,   0,   0,   0],\n",
    "    [  0,   0, 552,   0,   0,   3,   2,   0,   0,   0],\n",
    "    [  0,   0,   0, 485,   2,   0,   0,   6,   0,   0],\n",
    "    [  0,   0,   0,   0, 509,   0,   0,   2,   1,   0],\n",
    "    [  0,   0,   0,   0,   0, 372,   0,   0,   2,   0],\n",
    "    [  4,   0,   9,   1,   2,   0, 473,   2,   0,   0],\n",
    "    [  0,   0,   0,   0,   1,   0,   0, 606,   0,   0],\n",
    "    [  0,   0,   0,   3,   1,   0,   1,   2, 540,   0],\n",
    "    [  1,   0,   2,   0,   0,   2,   0,   0,   1, 616]\n",
    "])\n",
    "\n",
    "# Calculate true positives\n",
    "tp = np.diag(confusion_matrix_ViT)\n",
    "\n",
    "# Calculate false positives\n",
    "fp = np.sum(confusion_matrix_ViT, axis=0) - tp\n",
    "\n",
    "# Calculate false negatives\n",
    "fn = np.sum(confusion_matrix_ViT, axis=1) - tp\n",
    "\n",
    "# Calculate total number of predictions\n",
    "total_predictions = np.sum(confusion_matrix_ViT)\n",
    "\n",
    "# Calculate IoU for each class\n",
    "iou_per_class = tp / (tp + fp + fn)\n",
    "\n",
    "# Calculate overall IoU\n",
    "overall_iou = np.mean(iou_per_class)\n",
    "\n",
    "print(f\"Overall IoU for ViT: {overall_iou:.4f}\")"
   ]
  },
  {
   "cell_type": "markdown",
   "metadata": {},
   "source": [
    "10 and 20 epoch test for ViT model"
   ]
  },
  {
   "cell_type": "code",
   "execution_count": 16,
   "metadata": {},
   "outputs": [
    {
     "name": "stdout",
     "output_type": "stream",
     "text": [
      "Overall IoU for ViT_Aug_10: 0.9646\n"
     ]
    }
   ],
   "source": [
    "# Confusion matrix\n",
    "confusion_matrix_ViT_Aug_10 = np.array([\n",
    "    [591,   0,   0,   0,   0,   0,   6,   0,   0,   0],\n",
    "    [  2, 592,   6,   0,   0,   0,   0,   0,   0,   0],\n",
    "    [  1,   0, 530,   0,   0,   2,  24,   0,   0,   0],\n",
    "    [  0,   0,   0, 492,   0,   0,   0,   1,   0,   0],\n",
    "    [  0,   0,   0,   1, 499,   0,   1,   9,   2,   0],\n",
    "    [  7,   0,   4,   0,   0, 357,   2,   0,   4,   0],\n",
    "    [  7,   0,   3,   1,   0,   0, 480,   0,   0,   0],\n",
    "    [  0,   0,   0,   0,   1,   0,   0, 606,   0,   0],\n",
    "    [  1,   0,   0,   0,   0,   0,   0,   0, 546,   0],\n",
    "    [  0,   1,   3,   0,   0,   0,   0,   0,   6, 612]\n",
    "])\n",
    "\n",
    "# Calculate true positives\n",
    "tp = np.diag(confusion_matrix_ViT_Aug_10)\n",
    "\n",
    "# Calculate false positives\n",
    "fp = np.sum(confusion_matrix_ViT_Aug_10, axis=0) - tp\n",
    "\n",
    "# Calculate false negatives\n",
    "fn = np.sum(confusion_matrix_ViT_Aug_10, axis=1) - tp\n",
    "\n",
    "# Calculate total number of predictions\n",
    "total_predictions = np.sum(confusion_matrix_ViT_Aug_10)\n",
    "\n",
    "# Calculate IoU for each class\n",
    "iou_per_class = tp / (tp + fp + fn)\n",
    "\n",
    "# Calculate overall IoU\n",
    "overall_iou = np.mean(iou_per_class)\n",
    "\n",
    "print(f\"Overall IoU for ViT_Aug_10: {overall_iou:.4f}\")"
   ]
  },
  {
   "cell_type": "code",
   "execution_count": 17,
   "metadata": {},
   "outputs": [
    {
     "name": "stdout",
     "output_type": "stream",
     "text": [
      "Overall IoU for ViT_10: 0.9734\n"
     ]
    }
   ],
   "source": [
    "# Confusion matrix\n",
    "confusion_matrix_ViT_10 =  np.array([\n",
    "    [587,   0,   1,   0,   0,   2,   4,   0,   0,   2],\n",
    "    [  0, 576,   0,   0,   0,   1,   0,   0,   0,   0],\n",
    "    [  0,  15, 544,   0,   0,   5,   7,   0,   0,   0],\n",
    "    [  0,   0,   0, 509,   0,   0,   0,   0,   5,   0],\n",
    "    [  0,   0,   0,   2, 490,   0,   1,   2,   0,   0],\n",
    "    [  1,   3,   2,   0,   0, 412,   0,   0,   1,   1],\n",
    "    [  2,   0,   1,   0,   0,   2, 486,   0,   0,   0],\n",
    "    [  0,   1,   1,   0,   1,   0,   0, 593,   0,   0],\n",
    "    [  1,   0,   0,   3,   0,   0,   0,   0, 534,   0],\n",
    "    [  0,   2,   0,   0,   0,   0,   0,   0,   3, 597]\n",
    "])\n",
    "\n",
    "# Calculate true positives\n",
    "tp = np.diag(confusion_matrix_ViT_10)\n",
    "\n",
    "# Calculate false positives\n",
    "fp = np.sum(confusion_matrix_ViT_10, axis=0) - tp\n",
    "\n",
    "# Calculate false negatives\n",
    "fn = np.sum(confusion_matrix_ViT_10, axis=1) - tp\n",
    "\n",
    "# Calculate total number of predictions\n",
    "total_predictions = np.sum(confusion_matrix_ViT_10)\n",
    "\n",
    "# Calculate IoU for each class\n",
    "iou_per_class = tp / (tp + fp + fn)\n",
    "\n",
    "# Calculate overall IoU\n",
    "overall_iou = np.mean(iou_per_class)\n",
    "\n",
    "print(f\"Overall IoU for ViT_10: {overall_iou:.4f}\")"
   ]
  },
  {
   "cell_type": "code",
   "execution_count": 18,
   "metadata": {},
   "outputs": [
    {
     "name": "stdout",
     "output_type": "stream",
     "text": [
      "Overall IoU for ViT_Aug_20: 0.9830\n"
     ]
    }
   ],
   "source": [
    "# Confusion matrix\n",
    "confusion_matrix_ViT_Aug_20 = np.array([\n",
    "    [590,   0,   0,   0,   0,   3,   4,   0,   0,   0],\n",
    "    [  1, 597,   1,   0,   0,   0,   0,   0,   0,   1],\n",
    "    [  0,   0, 553,   0,   0,   2,   2,   0,   0,   0],\n",
    "    [  0,   2,   0, 488,   2,   0,   0,   0,   1,   0],\n",
    "    [  0,   0,   0,   0, 509,   0,   0,   1,   2,   0],\n",
    "    [  3,   0,   3,   0,   0, 367,   0,   0,   1,   0],\n",
    "    [  5,   0,   4,   0,   0,   0, 482,   0,   0,   0],\n",
    "    [  0,   0,   0,   0,   1,   0,   0, 606,   0,   0],\n",
    "    [  0,   0,   0,   2,   0,   1,   0,   0, 543,   1],\n",
    "    [  0,   0,   1,   0,   0,   0,   0,   0,   0, 621]\n",
    "])\n",
    "\n",
    "# Calculate true positives\n",
    "tp = np.diag(confusion_matrix_ViT_Aug_20)\n",
    "\n",
    "# Calculate false positives\n",
    "fp = np.sum(confusion_matrix_ViT_Aug_20, axis=0) - tp\n",
    "\n",
    "# Calculate false negatives\n",
    "fn = np.sum(confusion_matrix_ViT_Aug_20, axis=1) - tp\n",
    "\n",
    "# Calculate total number of predictions\n",
    "total_predictions = np.sum(confusion_matrix_ViT_Aug_20)\n",
    "\n",
    "# Calculate IoU for each class\n",
    "iou_per_class = tp / (tp + fp + fn)\n",
    "\n",
    "# Calculate overall IoU\n",
    "overall_iou = np.mean(iou_per_class)\n",
    "\n",
    "print(f\"Overall IoU for ViT_Aug_20: {overall_iou:.4f}\")"
   ]
  },
  {
   "cell_type": "code",
   "execution_count": 19,
   "metadata": {},
   "outputs": [
    {
     "name": "stdout",
     "output_type": "stream",
     "text": [
      "Overall IoU for ViT_20: 0.9676\n"
     ]
    }
   ],
   "source": [
    "# Confusion matrix\n",
    "confusion_matrix_ViT_20 = np.array([\n",
    "    [567,   0,   0,   4,   0,   1,   25,   0,   0,   0],\n",
    "    [  1, 596,   3,   0,   0,   0,   0,   0,   0,   0],\n",
    "    [  0,   0, 544,   0,   0,   2,  11,   0,   0,   0],\n",
    "    [  0,   1,   0, 491,   0,   0,   0,   0,   1,   0],\n",
    "    [  0,   0,   0,   0, 511,   0,   0,   1,   0,   0],\n",
    "    [  3,   0,   4,   0,   0, 358,   6,   0,   3,   0],\n",
    "    [  2,   0,   4,   0,   0,   0, 485,   0,   0,   0],\n",
    "    [  0,   0,   0,   0,   1,   0,   0, 606,   0,   0],\n",
    "    [  0,   0,   0,   5,   0,   0,   1,   0, 541,   0],\n",
    "    [  1,   0,   2,   0,   0,   1,   0,   0,   3, 615],\n",
    "])\n",
    "\n",
    "# Calculate true positives\n",
    "tp = np.diag(confusion_matrix_ViT_20)\n",
    "\n",
    "# Calculate false positives\n",
    "fp = np.sum(confusion_matrix_ViT_20, axis=0) - tp\n",
    "\n",
    "# Calculate false negatives\n",
    "fn = np.sum(confusion_matrix_ViT_20, axis=1) - tp\n",
    "\n",
    "# Calculate total number of predictions\n",
    "total_predictions = np.sum(confusion_matrix_ViT_20)\n",
    "\n",
    "# Calculate IoU for each class\n",
    "iou_per_class = tp / (tp + fp + fn)\n",
    "\n",
    "# Calculate overall IoU\n",
    "overall_iou = np.mean(iou_per_class)\n",
    "\n",
    "print(f\"Overall IoU for ViT_20: {overall_iou:.4f}\")"
   ]
  }
 ],
 "metadata": {
  "kernelspec": {
   "display_name": "Python 3",
   "language": "python",
   "name": "python3"
  },
  "language_info": {
   "codemirror_mode": {
    "name": "ipython",
    "version": 3
   },
   "file_extension": ".py",
   "mimetype": "text/x-python",
   "name": "python",
   "nbconvert_exporter": "python",
   "pygments_lexer": "ipython3",
   "version": "3.11.6"
  },
  "orig_nbformat": 4
 },
 "nbformat": 4,
 "nbformat_minor": 2
}
